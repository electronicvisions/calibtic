{
 "metadata": {
  "name": "",
  "signature": "sha256:566417e2d5f9bf0bd48168e584c7ac5559b5d9faa83b1e8e2d91f4e32ec0edb9"
 },
 "nbformat": 3,
 "nbformat_minor": 0,
 "worksheets": [
  {
   "cells": [
    {
     "cell_type": "markdown",
     "metadata": {},
     "source": [
      "Adapted from C. Pape's Mathematica notebook ```calibtic/doc/calibration.nb```, added explanations.\n",
      "\n",
      "# !! Before committing changes\n",
      "Please run ```Cell -> All Output -> Clear``` **before committing** to keep the ```git diff``` sane.\n",
      "\n",
      "\n",
      "# Literature\n",
      "\n",
      "For further explanations see \n",
      "* Marc-Olivier Schwartz (Dissertation, 2013)\n",
      "    \"Reproducing Biologically Realistic Regimes on a Highly-Accelerated Neuromorphic Hardware System\"\n",
      ",\n",
      "* Constantin Pape (Bachelor thesis, 2013)\n",
      "    \"Vergleich der Executable System Specification mit neuromorpher Hardware \u00fcber eine gemeinsame Bedienungsschnittstelle\"\n",
      ",\n",
      "* Dominik Schmidt (Master thesis, 2014)\n",
      "    \"Automated Characterization of a Wafer-Scale Neuromorphic Hardware System\"\n",
      "\n",
      "\n",
      "#### Importing modules\n",
      "\n",
      "Ignore this section or disable ```OPTION_PLOT_CALIBTIC```."
     ]
    },
    {
     "cell_type": "code",
     "collapsed": false,
     "input": [
      "%matplotlib inline\n",
      "\n",
      "import numpy as np\n",
      "import matplotlib.pyplot as plt\n",
      "import matplotlib as mpl\n",
      "mpl.rcParams['text.usetex']=True\n",
      "mpl.rcParams['text.latex.unicode']=True\n",
      "mpl.rcParams['text.latex.preamble'].append(r'\\usepackage{amsmath}')"
     ],
     "language": "python",
     "metadata": {},
     "outputs": []
    },
    {
     "cell_type": "code",
     "collapsed": false,
     "input": [
      "# using pycalibtic is optional, may not be installed on your machine\n",
      "OPTION_PLOT_CALIBTIC = True\n",
      "\n",
      "if OPTION_PLOT_CALIBTIC:\n",
      "    import pycalibtic\n",
      "    import pyhalbe\n",
      "    para = pyhalbe.HICANN.neuron_parameter\n",
      "\n",
      "    nrn = pycalibtic.NeuronCalibration()\n",
      "    nrn.setDefaults()"
     ],
     "language": "python",
     "metadata": {},
     "outputs": []
    },
    {
     "cell_type": "markdown",
     "metadata": {},
     "source": [
      "# Constants"
     ]
    },
    {
     "cell_type": "code",
     "collapsed": false,
     "input": [
      "# time acceleration factor\n",
      "ACC = 10000.\n",
      "\n",
      "# hardware capacitance\n",
      "# 2.4*10^-3 in MOS thesis, nobody knows why\n",
      "HWCap = 2.4*10**(-3)  # nF\n",
      "\n",
      "# biological membrane conductance\n",
      "BIOCap = 0.24  # nF\n",
      "\n",
      "# voltage shift factors\n",
      "vShift = 1200.\n",
      "vAlpha = 10."
     ],
     "language": "python",
     "metadata": {},
     "outputs": []
    },
    {
     "cell_type": "markdown",
     "metadata": {},
     "source": [
      "# Ideal calibration\n",
      "\n",
      "from calibtic.cpp"
     ]
    },
    {
     "cell_type": "code",
     "collapsed": false,
     "input": [
      "def El(V):\n",
      "    return 1.02 * V - 8.58\n",
      "\n",
      "def gl(x):\n",
      "    # 10^-5 instead of 10^-10 in M .O.Schwartz thesis\n",
      "    # calibtic had 10^-5, typo in thesis?\n",
      "    return 5.52*10**(-5) * x**2 + 0.24 * x + 0.89\n",
      "\n",
      "def Vsyntc(x):\n",
      "    return -3.94 * x**2 + 37*x + 1382;\n",
      "\n",
      "def Vt(V):\n",
      "    return 0.998*V - 3.55\n",
      "\n",
      "def Ipl(x):\n",
      "    return 1.0 / (0.025 * x - 0.0004)\n",
      "\n",
      "def Igladapt(x):\n",
      "    return 4.93 * 10**(-5) * x**2 + 0.26 * x - 0.66\n",
      "\n",
      "def Iradapt(x):\n",
      "    return 1.0 / (-4.4 * 10**(-6) * x**2 + 0.00032 * x - 0.0005)\n",
      "\n",
      "def Ifire(x):\n",
      "    return -0.14 * x**2 + 45*x + 54.75\n",
      "    \n",
      "def Irexp(x):\n",
      "    return 9.2386 * x**2 + 66.3847 * x - 94.2541\n",
      "\n",
      "def Vexp(V):\n",
      "    # in MOS thesis 93.15 + 0.64*V\n",
      "    # in calibtic:\n",
      "    return 0.3720 * V + 100.2902"
     ],
     "language": "python",
     "metadata": {},
     "outputs": []
    },
    {
     "cell_type": "markdown",
     "metadata": {},
     "source": [
      "# Scaling functions"
     ]
    },
    {
     "cell_type": "code",
     "collapsed": true,
     "input": [
      "def scaleV(V):\n",
      "    \"\"\"scale potentials\"\"\"\n",
      "    return vAlpha * V + vShift\n",
      "\n",
      "def scaleConductance(x):\n",
      "    \"\"\"scale conductances\"\"\"\n",
      "    return x * ACC * HWCap / BIOCap\n",
      "\n",
      "def scaleCurrent(x):\n",
      "    \"\"\"scale currents\"\"\"\n",
      "    return x * vAlpha * ACC * HWCap / BIOCap\n",
      "\n",
      "def scaleDeltaT(x):\n",
      "    \"\"\"scale \\Delta t\"\"\"\n",
      "    return x * vAlpha\n",
      "\n",
      "def scaleTau(x):\n",
      "    \"\"\"scale time constants\"\"\"\n",
      "    return x / ACC * 1000.  # ms to microseconds\n",
      "\n",
      "def invScaleV(V):\n",
      "    \"\"\"inverse scaling of potentials\"\"\"\n",
      "    return (V - vShift) / vAlpha\n",
      "\n",
      "def invScaleConductance(V):\n",
      "    \"\"\"inverse scaling of conductances\"\"\"\n",
      "    return x * BIOCap / HWCap / ACC"
     ],
     "language": "python",
     "metadata": {},
     "outputs": []
    },
    {
     "cell_type": "markdown",
     "metadata": {},
     "source": [
      "# Transformations\n",
      "\n",
      "biological to hardware domain"
     ]
    },
    {
     "cell_type": "code",
     "collapsed": false,
     "input": [
      "def transmempot(V):\n",
      "    \"\"\"membrane potential transformation\"\"\"\n",
      "    return El(scaleV(V))\n",
      "\n",
      "def transthresh(V):\n",
      "    \"\"\"threshold potential transformation\"\"\"\n",
      "    return Vt(scaleV(V))\n",
      "\n",
      "def transtcmem(x):\n",
      "    \"\"\"membrane time constant transformation\"\"\"\n",
      "    return gl(scaleConductance(x))\n",
      "\n",
      "def transtcsyn(x):\n",
      "    \"\"\"synaptic time constant transformation\"\"\"\n",
      "    return Vsyntc(scaleTau(x))\n",
      "\n",
      "def transdeltat(x):\n",
      "    \"\"\"\\Delta t transformation\"\"\"\n",
      "    return Irexp(scaleDeltaT(x))\n",
      "\n",
      "def transvexp(V):\n",
      "    \"\"\"V_exp transformation\"\"\"\n",
      "    return Vexp(scaleV(V))\n",
      "\n",
      "def transtcref(x):\n",
      "    \"\"\"refractory time constant transformation\"\"\"\n",
      "    return Ipl(scaleTau(x))\n",
      "\n",
      "def transtcadapt(x):\n",
      "    \"\"\"adaption time constant transformation\"\"\"\n",
      "    return Iradapt(scaleTau(x))\n",
      "\n",
      "def transadapt(x):\n",
      "    \"\"\"adaption factor a transformation\"\"\"\n",
      "    return Igladapt(scaleConductance(x))\n",
      "\n",
      "def transb(x):\n",
      "    \"\"\"adaption factor b transformation\"\"\"\n",
      "    return Ifire(scaleCurrent(x))"
     ],
     "language": "python",
     "metadata": {},
     "outputs": []
    },
    {
     "cell_type": "markdown",
     "metadata": {},
     "source": [
      "# Plots\n",
      "\n",
      "Visualisation of transformation functions, which apply scaling and ideal transformation.\n",
      "\n",
      "The ranges are selected as in Pape (2013), table 2.1"
     ]
    },
    {
     "cell_type": "markdown",
     "metadata": {},
     "source": [
      "## LIF membrane dynamics"
     ]
    },
    {
     "cell_type": "code",
     "collapsed": false,
     "input": [
      "# also valid for E_syn, V_reset\n",
      "V = np.linspace(-70, -45)\n",
      "plt.title(\"membrane potential\")\n",
      "plt.xlabel(\"bio membrane potential [mV]\")\n",
      "plt.ylabel(\"hardware $E_l$ (or $E_{syn}$ or $V_{reset}$) [mV]\")\n",
      "plt.plot(V, transmempot(V), 'b')\n",
      "\n",
      "if OPTION_PLOT_CALIBTIC:\n",
      "    poly = nrn.at(para.E_l)\n",
      "    print poly\n",
      "    plt.plot(V, [poly.apply(scaleV(v)) for v in V], 'r--')\n",
      "    lower_bound = invScaleV(poly.find_real_roots(0, False))\n",
      "    upper_bound = invScaleV(poly.find_real_roots(1023, False))\n",
      "    plt.axvline(lower_bound, color='k', ls='--')\n",
      "    plt.axvline(upper_bound, color='k', ls='--')\n",
      "\n",
      "plt.show()"
     ],
     "language": "python",
     "metadata": {},
     "outputs": []
    },
    {
     "cell_type": "code",
     "collapsed": false,
     "input": [
      "V = np.linspace(-45, 0)\n",
      "plt.title(\"threshold voltage\")\n",
      "plt.xlabel(\"bio threshold [mV]\")\n",
      "plt.ylabel(\"hardware $V_t$ [mV]\")\n",
      "plt.plot(V, transthresh(V), 'b')\n",
      "\n",
      "if OPTION_PLOT_CALIBTIC:\n",
      "    poly = nrn.at(para.V_t)\n",
      "    print poly\n",
      "    plt.plot(V, [poly.apply(scaleV(v)) for v in V], 'r--')\n",
      "    lower_bound = invScaleV(poly.find_real_roots(0, False))\n",
      "    upper_bound = invScaleV(poly.find_real_roots(1023, False))\n",
      "    plt.axvline(lower_bound, color='k', ls='--')\n",
      "    plt.axvline(upper_bound, color='k', ls='--')\n",
      "\n",
      "plt.show()"
     ],
     "language": "python",
     "metadata": {},
     "outputs": []
    },
    {
     "cell_type": "code",
     "collapsed": false,
     "input": [
      "x = np.linspace(1.7, 18)\n",
      "plt.title(\"membrane time constant\")\n",
      "# (?) plt.ylabel(\"bias current [nA]\")\n",
      "plt.xlabel(\"bio $g_l$ [nS]\")\n",
      "plt.plot(x, transtcmem(x), 'b')\n",
      "\n",
      "if OPTION_PLOT_CALIBTIC:\n",
      "    poly = nrn.at(para.I_gl)\n",
      "    print poly\n",
      "    plt.plot(x, [poly.apply(scaleConductance(v)) for v in x], 'r--')\n",
      "    print poly.find_roots(0), poly.find_roots(1023)\n",
      "\n",
      "plt.show()"
     ],
     "language": "python",
     "metadata": {},
     "outputs": []
    },
    {
     "cell_type": "code",
     "collapsed": false,
     "input": [
      "# diverges... but ok for biological ref > 0.4ms\n",
      "x = np.linspace(0, 2)\n",
      "plt.ylim(-1000, 2500)\n",
      "plt.title(\"refractory time constant\")\n",
      "plt.plot(x, transtcref(x), 'b')\n",
      "plt.xlabel(r\"bio $\\tau_{ref}$ [ms]\")\n",
      "\n",
      "if OPTION_PLOT_CALIBTIC:\n",
      "    poly = nrn.at(para.I_pl)\n",
      "    print poly\n",
      "    plt.plot(x, [1.0/poly.apply(scaleTau(v)) for v in x], 'r--')\n",
      "\n",
      "plt.show()"
     ],
     "language": "python",
     "metadata": {},
     "outputs": []
    },
    {
     "cell_type": "markdown",
     "metadata": {},
     "source": [
      "## Adaptation term"
     ]
    },
    {
     "cell_type": "code",
     "collapsed": false,
     "input": [
      "x = np.linspace(-0.8, 4)\n",
      "plt.title(\"adaptation coupling parameter a\")\n",
      "plt.xlabel(\"bio a [nS]\")\n",
      "plt.plot(x, transadapt(x), 'b')\n",
      "\n",
      "if OPTION_PLOT_CALIBTIC:\n",
      "    poly = nrn.at(para.I_gladapt)\n",
      "    print poly\n",
      "    plt.plot(x, [poly.apply(scaleConductance(v)) for v in x], 'r--')\n",
      "\n",
      "plt.show()"
     ],
     "language": "python",
     "metadata": {},
     "outputs": []
    },
    {
     "cell_type": "code",
     "collapsed": false,
     "input": [
      "x = np.linspace(16, 300)\n",
      "plt.plot(x, transtcadapt(x), 'b')\n",
      "plt.ylim(0,1400)\n",
      "plt.title(\"adaptation time constant\")\n",
      "plt.xlabel(r\"bio $\\tau_w$ [ms]\")\n",
      "\n",
      "if OPTION_PLOT_CALIBTIC:\n",
      "    poly = nrn.at(para.I_radapt)\n",
      "    print poly\n",
      "    plt.plot(x, [1.0/poly.apply(scaleTau(v)) for v in x], 'r--')\n",
      "\n",
      "\n",
      "# note that the original notebook has axis intersecting at (50, 200)\n",
      "plt.show()"
     ],
     "language": "python",
     "metadata": {},
     "outputs": []
    },
    {
     "cell_type": "code",
     "collapsed": false,
     "input": [
      "x = np.linspace(0, 0.06)\n",
      "plt.title(\"spike-triggered adaptation parameter b\")\n",
      "plt.xlabel(\"bio b [pA]\")\n",
      "plt.plot(x, transb(x), 'b')\n",
      "\n",
      "if OPTION_PLOT_CALIBTIC:\n",
      "    poly = nrn.at(para.I_fire)\n",
      "    print poly\n",
      "    plt.plot(x, [poly.apply(scaleCurrent(v)) for v in x], 'r--')\n",
      "\n",
      "plt.show()"
     ],
     "language": "python",
     "metadata": {},
     "outputs": []
    },
    {
     "cell_type": "markdown",
     "metadata": {},
     "source": [
      "## Exponential term"
     ]
    },
    {
     "cell_type": "code",
     "collapsed": false,
     "input": [
      "x = np.linspace(0, 3)\n",
      "plt.plot(x, transdeltat(x), 'b')\n",
      "plt.title(\"$\\Delta_T$\")\n",
      "plt.xlabel(\"bio $\\Delta_T$ [mV]\")\n",
      "\n",
      "if OPTION_PLOT_CALIBTIC:\n",
      "    poly = nrn.at(para.I_rexp)\n",
      "    print poly\n",
      "    plt.plot(x, [poly.apply(scaleDeltaT(v)) for v in x], 'r--')\n",
      "\n",
      "plt.show()"
     ],
     "language": "python",
     "metadata": {},
     "outputs": []
    },
    {
     "cell_type": "code",
     "collapsed": false,
     "input": [
      "x = np.linspace(-56, -42)\n",
      "plt.plot(x, transvexp(x), 'b')\n",
      "plt.xlabel(\"bio $V_t$ [mV]\")\n",
      "plt.ylabel(r\"hardware $V_{exp}$ [mV]\")\n",
      "\n",
      "if OPTION_PLOT_CALIBTIC:\n",
      "    poly = nrn.at(para.V_exp)\n",
      "    print poly\n",
      "    plt.plot(x, [poly.apply(scaleV(v)) for v in x], 'r--')\n",
      "\n",
      "plt.show()"
     ],
     "language": "python",
     "metadata": {},
     "outputs": []
    },
    {
     "cell_type": "markdown",
     "metadata": {},
     "source": [
      "## Synaptic input"
     ]
    },
    {
     "cell_type": "code",
     "collapsed": false,
     "input": [
      "x = np.linspace(0, 10)\n",
      "plt.plot(x, transtcsyn(x), 'b')\n",
      "plt.xlabel(r\"bio $\\tau_\\text{syn}$ [ms]\")\n",
      "\n",
      "if OPTION_PLOT_CALIBTIC:\n",
      "    poly = nrn.at(para.V_syntcx)\n",
      "    print poly\n",
      "    plt.plot(x, [poly.apply(scaleTau(v)) for v in x], 'r--')\n",
      "\n",
      "plt.show()"
     ],
     "language": "python",
     "metadata": {},
     "outputs": []
    },
    {
     "cell_type": "markdown",
     "metadata": {},
     "source": [
      "# Test data\n",
      "\n",
      "for ```calibtic/test/calibtic.cpp```"
     ]
    },
    {
     "cell_type": "code",
     "collapsed": false,
     "input": [
      "def mvoltdac(x):\n",
      "    \"\"\"convert millivolts to DAC\"\"\"\n",
      "    return x * 1023. / 1800.\n",
      "\n",
      "def currdac(x):\n",
      "    \"\"\"convert current [nA] to DAC\"\"\"\n",
      "    return x * 1023. / 2500."
     ],
     "language": "python",
     "metadata": {},
     "outputs": []
    },
    {
     "cell_type": "code",
     "collapsed": false,
     "input": [
      "currdac(transtcref(1.0035))"
     ],
     "language": "python",
     "metadata": {},
     "outputs": []
    },
    {
     "cell_type": "code",
     "collapsed": false,
     "input": [
      "currdac(transadapt(2.3872))"
     ],
     "language": "python",
     "metadata": {},
     "outputs": []
    },
    {
     "cell_type": "code",
     "collapsed": false,
     "input": [
      "# needs a conductance as input in contrast to calibtic which gets a time\n",
      "print \"I_gl should be {} DAC for BIOCap={} and g_l={}\".format(currdac(transtcmem(18)), BIOCap, 18)"
     ],
     "language": "python",
     "metadata": {},
     "outputs": []
    },
    {
     "cell_type": "code",
     "collapsed": false,
     "input": [
      "mvoltdac(transmempot(5.2301))"
     ],
     "language": "python",
     "metadata": {},
     "outputs": []
    },
    {
     "cell_type": "code",
     "collapsed": false,
     "input": [
      "mvoltdac(transmempot(-80.2931))"
     ],
     "language": "python",
     "metadata": {},
     "outputs": []
    },
    {
     "cell_type": "code",
     "collapsed": false,
     "input": [
      "currdac(transdeltat(1.54))"
     ],
     "language": "python",
     "metadata": {},
     "outputs": []
    },
    {
     "cell_type": "code",
     "collapsed": false,
     "input": [
      "currdac(transb(0.1001))"
     ],
     "language": "python",
     "metadata": {},
     "outputs": []
    },
    {
     "cell_type": "code",
     "collapsed": false,
     "input": [
      "mvoltdac(transtcsyn(10.0001))"
     ],
     "language": "python",
     "metadata": {},
     "outputs": []
    },
    {
     "cell_type": "code",
     "collapsed": false,
     "input": [
      "mvoltdac(transthresh(0.0103))"
     ],
     "language": "python",
     "metadata": {},
     "outputs": []
    },
    {
     "cell_type": "code",
     "collapsed": false,
     "input": [
      "currdac(transtcadapt(100.0500))"
     ],
     "language": "python",
     "metadata": {},
     "outputs": []
    },
    {
     "cell_type": "code",
     "collapsed": false,
     "input": [
      "mvoltdac(transmempot(-60.23109))"
     ],
     "language": "python",
     "metadata": {},
     "outputs": []
    },
    {
     "cell_type": "code",
     "collapsed": false,
     "input": [
      "mvoltdac(transvexp(-50.2010))"
     ],
     "language": "python",
     "metadata": {},
     "outputs": []
    },
    {
     "cell_type": "code",
     "collapsed": false,
     "input": [],
     "language": "python",
     "metadata": {},
     "outputs": []
    }
   ],
   "metadata": {}
  }
 ]
}