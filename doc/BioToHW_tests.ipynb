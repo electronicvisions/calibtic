{
 "metadata": {
  "name": "",
  "signature": "sha256:e711aa160b4c1ec046b861bbcfd545762fa597ae9bc0922b5fe155483f414e13"
 },
 "nbformat": 3,
 "nbformat_minor": 0,
 "worksheets": [
  {
   "cells": [
    {
     "cell_type": "markdown",
     "metadata": {},
     "source": [
      "In this notebook, the values for the calibtic-main BioToHW test are calculated"
     ]
    },
    {
     "cell_type": "code",
     "collapsed": false,
     "input": [
      "import pycalibtic\n",
      "import pycellparameters\n",
      "from pyhalbe.HICANN import neuron_parameter, shared_parameter"
     ],
     "language": "python",
     "metadata": {},
     "outputs": [],
     "prompt_number": 1
    },
    {
     "cell_type": "code",
     "collapsed": false,
     "input": [
      "neuron_calib = pycalibtic.NeuronCalibration()\n",
      "neuron_calib.setDefaults()"
     ],
     "language": "python",
     "metadata": {},
     "outputs": [],
     "prompt_number": 2
    },
    {
     "cell_type": "code",
     "collapsed": false,
     "input": [
      "neuron_calib.at(neuron_parameter.I_pl)"
     ],
     "language": "python",
     "metadata": {},
     "outputs": [
      {
       "metadata": {},
       "output_type": "pyout",
       "prompt_number": 3,
       "text": [
        "<pycalibtic.OneOverPolynomial at 0x7f36941e3e60>"
       ]
      }
     ],
     "prompt_number": 3
    },
    {
     "cell_type": "code",
     "collapsed": false,
     "input": [
      "neuron_calib_params = pycalibtic.NeuronCalibrationParameters()\n",
      "neuron_calib_params.alphaV = 10\n",
      "neuron_calib_params.shiftV = 1.2"
     ],
     "language": "python",
     "metadata": {},
     "outputs": [],
     "prompt_number": 4
    },
    {
     "cell_type": "code",
     "collapsed": false,
     "input": [
      "bio_params = pycellparameters.EIF_cond_exp_isfa_ista()"
     ],
     "language": "python",
     "metadata": {},
     "outputs": [],
     "prompt_number": 5
    },
    {
     "cell_type": "code",
     "collapsed": false,
     "input": [
      "bio_params.tau_refrac = 1.00\n",
      "bio_params.a =          2.5\n",
      "bio_params.tau_m =      5.0\n",
      "bio_params.e_rev_E =    0.0\n",
      "bio_params.cm =         0.24\n",
      "bio_params.delta_T =    1.2\n",
      "bio_params.e_rev_I =    -80.0\n",
      "bio_params.v_thresh =   -40.0\n",
      "bio_params.b =          0.05\n",
      "bio_params.tau_syn_E =  10.0\n",
      "bio_params.v_spike =    0.0\n",
      "bio_params.tau_syn_I =  10.0\n",
      "bio_params.tau_w =      30.0\n",
      "bio_params.v_rest =     -60.0\n",
      "\n",
      "speedup = 10000"
     ],
     "language": "python",
     "metadata": {},
     "outputs": [],
     "prompt_number": 6
    },
    {
     "cell_type": "code",
     "collapsed": false,
     "input": [
      "HW_params = neuron_calib.applyNeuronCalibration(bio_params, speedup)"
     ],
     "language": "python",
     "metadata": {},
     "outputs": [],
     "prompt_number": 16
    },
    {
     "cell_type": "code",
     "collapsed": false,
     "input": [
      "print HW_params"
     ],
     "language": "python",
     "metadata": {},
     "outputs": [
      {
       "output_type": "stream",
       "stream": "stdout",
       "text": [
        "E_l\t341\n",
        "E_syni\t227\n",
        "E_synx\t682\n",
        "I_bexp\t1023\n",
        "I_convi\t1023\n",
        "I_convx\t1023\n",
        "I_fire\t736\n",
        "I_gl\t829\n",
        "I_gladapt\t25\n",
        "I_intbbi\t511\n",
        "I_intbbx\t511\n",
        "I_pl\t161\n",
        "I_radapt\t819\n",
        "I_rexp\t832\n",
        "I_spikeamp\t1023\n",
        "V_exp\t455\n",
        "V_syni\t511\n",
        "V_syntci\t804\n",
        "V_syntcx\t804\n",
        "V_synx\t511\n",
        "V_t\t682\n",
        "V_convoffi\t0\n",
        "V_convoffx\t0\n",
        "\n"
       ]
      }
     ],
     "prompt_number": 17
    },
    {
     "cell_type": "code",
     "collapsed": false,
     "input": [],
     "language": "python",
     "metadata": {},
     "outputs": []
    }
   ],
   "metadata": {}
  }
 ]
}